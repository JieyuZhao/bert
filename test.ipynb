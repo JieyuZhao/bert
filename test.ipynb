{
 "cells": [
  {
   "cell_type": "code",
   "execution_count": 1,
   "metadata": {},
   "outputs": [],
   "source": [
    "MNLI = \"/home/jyzhao/git/mindtradeoff/dataset/MNLI\""
   ]
  },
  {
   "cell_type": "code",
   "execution_count": 2,
   "metadata": {},
   "outputs": [],
   "source": [
    "import os, sys, csv"
   ]
  },
  {
   "cell_type": "code",
   "execution_count": 5,
   "metadata": {},
   "outputs": [],
   "source": [
    "def read_csv(path, t=\"train\"):\n",
    "    examples = []\n",
    "    with open(path) as f:\n",
    "        f.readline()\n",
    "        lines = f.readlines()\n",
    "        for (idx, line) in enumerate(lines):\n",
    "            toks = line.strip().split(\"\\t\")\n",
    "            guid = toks[0]\n",
    "            text_a = toks[8]\n",
    "            text_b = toks[9]\n",
    "            label = toks[-1]\n",
    "            examples.append([guid, text_a, text_b, label])\n",
    "    return examples\n",
    "            "
   ]
  },
  {
   "cell_type": "code",
   "execution_count": 6,
   "metadata": {},
   "outputs": [],
   "source": [
    "mnli_train = read_csv(os.path.join(MNLI, \"train.tsv\"))"
   ]
  },
  {
   "cell_type": "code",
   "execution_count": 7,
   "metadata": {},
   "outputs": [
    {
     "data": {
      "text/plain": [
       "['0',\n",
       " 'Conceptually cream skimming has two basic dimensions - product and geography.',\n",
       " 'Product and geography are what make cream skimming work. ',\n",
       " 'neutral']"
      ]
     },
     "execution_count": 7,
     "metadata": {},
     "output_type": "execute_result"
    }
   ],
   "source": [
    "mnli_train[0]"
   ]
  },
  {
   "cell_type": "code",
   "execution_count": 9,
   "metadata": {},
   "outputs": [],
   "source": [
    "def build_bias(train_examples):\n",
    "    bias = []\n",
    "    for idx in range(len(train_examples)):\n",
    "        b = [0.3, 0.3, 0.3]\n",
    "        bias.append(b)\n",
    "    return bias\n",
    "        "
   ]
  },
  {
   "cell_type": "code",
   "execution_count": 10,
   "metadata": {},
   "outputs": [],
   "source": [
    "p_bias = build_bias(mnli_train)\n",
    "with open(\"/home/jyzhao/git/data/robustness/MNLI/bias/p_bias\", \"w\") as f:\n",
    "    for line in p_bias:\n",
    "        f.write(\"\\t\".join([str(x) for x in line]) + \"\\n\")"
   ]
  },
  {
   "cell_type": "markdown",
   "metadata": {},
   "source": [
    "### check the written files"
   ]
  },
  {
   "cell_type": "code",
   "execution_count": null,
   "metadata": {},
   "outputs": [],
   "source": []
  }
 ],
 "metadata": {
  "kernelspec": {
   "display_name": "Python 3",
   "language": "python",
   "name": "python3"
  },
  "language_info": {
   "codemirror_mode": {
    "name": "ipython",
    "version": 3
   },
   "file_extension": ".py",
   "mimetype": "text/x-python",
   "name": "python",
   "nbconvert_exporter": "python",
   "pygments_lexer": "ipython3",
   "version": "3.7.6"
  }
 },
 "nbformat": 4,
 "nbformat_minor": 4
}
