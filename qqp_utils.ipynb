{
 "cells": [
  {
   "cell_type": "code",
   "execution_count": 1,
   "id": "6364ce5b-0ba0-49bb-9189-bfffd431ae40",
   "metadata": {},
   "outputs": [],
   "source": [
    "import os\n",
    "import numpy as np\n",
    "import pandas as pd"
   ]
  },
  {
   "cell_type": "markdown",
   "id": "e39ab70b-1947-49c1-a761-4d36869850ea",
   "metadata": {},
   "source": [
    "### Generate the bias logits"
   ]
  },
  {
   "cell_type": "code",
   "execution_count": 46,
   "id": "6545be9f-9af5-407c-8294-67ce4c259d03",
   "metadata": {},
   "outputs": [],
   "source": [
    "def read_biasfeatures(path):\n",
    "    biasfeatures = pd.read_csv(path, index_col=0)\n",
    "    return biasfeatures"
   ]
  },
  {
   "cell_type": "code",
   "execution_count": 48,
   "id": "e75aba5d-cd10-48e2-8183-132e061243a4",
   "metadata": {},
   "outputs": [],
   "source": [
    "qqp_train_biasfeatures = read_biasfeatures(\"/local/jyzhao/data/QQP/qqp_train_bias_features\")"
   ]
  },
  {
   "cell_type": "code",
   "execution_count": 55,
   "id": "930437b5-8c0d-4271-8d53-b25fd09c3f63",
   "metadata": {},
   "outputs": [
    {
     "data": {
      "text/html": [
       "<div>\n",
       "<style scoped>\n",
       "    .dataframe tbody tr th:only-of-type {\n",
       "        vertical-align: middle;\n",
       "    }\n",
       "\n",
       "    .dataframe tbody tr th {\n",
       "        vertical-align: top;\n",
       "    }\n",
       "\n",
       "    .dataframe thead th {\n",
       "        text-align: right;\n",
       "    }\n",
       "</style>\n",
       "<table border=\"1\" class=\"dataframe\">\n",
       "  <thead>\n",
       "    <tr style=\"text-align: right;\">\n",
       "      <th></th>\n",
       "      <th>h-is-subseq</th>\n",
       "      <th>all-in-p</th>\n",
       "      <th>percent-in-p</th>\n",
       "      <th>log-len-diff</th>\n",
       "      <th>neg-in-h</th>\n",
       "      <th>label</th>\n",
       "      <th>average-sim</th>\n",
       "      <th>min-similarity</th>\n",
       "      <th>min2-similarity</th>\n",
       "    </tr>\n",
       "  </thead>\n",
       "  <tbody>\n",
       "    <tr>\n",
       "      <th>0</th>\n",
       "      <td>0</td>\n",
       "      <td>0</td>\n",
       "      <td>0.363636</td>\n",
       "      <td>1.609438</td>\n",
       "      <td>0</td>\n",
       "      <td>0</td>\n",
       "      <td>0</td>\n",
       "      <td>0</td>\n",
       "      <td>0</td>\n",
       "    </tr>\n",
       "    <tr>\n",
       "      <th>1</th>\n",
       "      <td>0</td>\n",
       "      <td>0</td>\n",
       "      <td>0.571429</td>\n",
       "      <td>0.000000</td>\n",
       "      <td>0</td>\n",
       "      <td>1</td>\n",
       "      <td>0</td>\n",
       "      <td>0</td>\n",
       "      <td>0</td>\n",
       "    </tr>\n",
       "  </tbody>\n",
       "</table>\n",
       "</div>"
      ],
      "text/plain": [
       "   h-is-subseq  all-in-p  percent-in-p  log-len-diff  neg-in-h  label  \\\n",
       "0            0         0      0.363636      1.609438         0      0   \n",
       "1            0         0      0.571429      0.000000         0      1   \n",
       "\n",
       "   average-sim  min-similarity  min2-similarity  \n",
       "0            0               0                0  \n",
       "1            0               0                0  "
      ]
     },
     "execution_count": 55,
     "metadata": {},
     "output_type": "execute_result"
    }
   ],
   "source": [
    "qqp_train_biasfeatures[:2]"
   ]
  },
  {
   "cell_type": "code",
   "execution_count": 61,
   "id": "0173e27a-c69a-488b-9d18-abf4544dc83b",
   "metadata": {},
   "outputs": [],
   "source": [
    "bias_logits = []\n",
    "for idx in range(len(qqp_train_biasfeatures)):\n",
    "    instance = qqp_train_biasfeatures.iloc[idx]\n",
    "    if instance[\"percent-in-p\"] >= 0.7 and instance[\"label\"] != 1:\n",
    "        bias_logits.append([0.3, 0.7])\n",
    "    else:\n",
    "        bias_logits.append([0, 0])\n",
    "with open(\"/local/jyzhao/data/QQP/bias_logits/pip_0.7_chanllenge\", \"w\") as f:\n",
    "    for line in bias_logits:\n",
    "        f.write(\"\\t\".join([str(x) for x in line]) + \"\\n\")"
   ]
  },
  {
   "cell_type": "markdown",
   "id": "5138e598-1dcf-4cdd-aa4f-d59ac3896e5d",
   "metadata": {},
   "source": [
    "## Check the prediction acc"
   ]
  },
  {
   "cell_type": "code",
   "execution_count": 26,
   "id": "f0b32fc4-b386-4ff4-bd7d-fea46830e3b5",
   "metadata": {},
   "outputs": [],
   "source": [
    "def read_pred(filepath):\n",
    "    preds = []\n",
    "    with open(filepath, \"r\") as f:\n",
    "        lines = csv.reader(f, delimiter=\"\\t\", quotechar=None)\n",
    "        for line in lines:\n",
    "            pred_idx = np.argmax(np.array(line, dtype=float))\n",
    "            preds.append(pred_idx)\n",
    "    return preds\n",
    "            "
   ]
  },
  {
   "cell_type": "code",
   "execution_count": 16,
   "id": "0565899b-fd52-4e9f-a3c7-3b0c0a003986",
   "metadata": {},
   "outputs": [],
   "source": [
    "import csv"
   ]
  },
  {
   "cell_type": "code",
   "execution_count": 17,
   "id": "f0459bb7-6202-4bd6-b306-19c81852e9fd",
   "metadata": {},
   "outputs": [],
   "source": [
    "PAWS_QQP_PATH = \"/local/jyzhao/data/paws/paws_qqp/output\""
   ]
  },
  {
   "cell_type": "code",
   "execution_count": 21,
   "id": "baa48ed2-208a-4d53-a22e-d82651502736",
   "metadata": {},
   "outputs": [],
   "source": [
    "def get_test_examples(input_file, skipheader = False):\n",
    "    with open(input_file, \"r\") as f:\n",
    "        reader = csv.reader(f, delimiter=\"\\t\", quotechar=None)\n",
    "        lines = []\n",
    "        if skipheader:\n",
    "            next(reader)\n",
    "        for line in reader:\n",
    "            lines.append(line)\n",
    "    return lines"
   ]
  },
  {
   "cell_type": "code",
   "execution_count": 63,
   "id": "cc2f5fa5-7dcb-42a6-80cc-60e57254af84",
   "metadata": {},
   "outputs": [],
   "source": [
    "def get_acc(preds, test):\n",
    "    assert len(preds) == len(test)\n",
    "    preds = np.array(preds, dtype=float)\n",
    "    test = np.array([x[-1] for x in test], dtype=float)\n",
    "    correct = np.sum(preds == test)\n",
    "    label_0 = np.where(test == 0)[0]\n",
    "    label_1 = np.where(test ==1)[0]\n",
    "    correct_0 = np.sum(preds[label_0] == test[label_0])\n",
    "    correct_1 = np.sum(preds[label_1] == test[label_1])\n",
    "    return (correct/len(preds), correct_0/len(label_0), correct_1/len(label_1))"
   ]
  },
  {
   "cell_type": "code",
   "execution_count": 64,
   "id": "f4ffdc66-5c7f-4042-a798-abb22fe02c59",
   "metadata": {},
   "outputs": [],
   "source": [
    "qqp_paws_test = get_test_examples(os.path.join(PAWS_QQP_PATH, \"dev_and_test.tsv\"), True)"
   ]
  },
  {
   "cell_type": "code",
   "execution_count": 65,
   "id": "2fd93ba7-938c-4bcb-a897-063f1a7a50bf",
   "metadata": {},
   "outputs": [
    {
     "data": {
      "text/plain": [
       "[['1',\n",
       "  \"b'What were the major effects of the cambodia earthquake , and how do these effects compare to the Iquique earthquake in 1877 ?'\",\n",
       "  \"b'What were the major effects of the Iquique earthquake , and how do these effects compare to the cambodia earthquake in 1877 ?'\",\n",
       "  '0'],\n",
       " ['2',\n",
       "  'b\"The guy I \\'m dating never texts me and I feel like he does n\\'t care about me but when I see him he shows me he likes me and wants me . Why do I feel this way ?\"',\n",
       "  'b\"The guy I \\'m dating never wants me and I feel like he does n\\'t care about me but when I see him , he shows me he likes me and texts me . Why do I feel this way ?\"',\n",
       "  '0']]"
      ]
     },
     "execution_count": 65,
     "metadata": {},
     "output_type": "execute_result"
    }
   ],
   "source": [
    "qqp_paws_test[:2]"
   ]
  },
  {
   "cell_type": "code",
   "execution_count": 66,
   "id": "6ee29bb1-6030-4b30-92bb-30ebb570c9ab",
   "metadata": {},
   "outputs": [],
   "source": [
    "qqp_paws_preds = read_pred(\"/local/jyzhao/bert/qqp_models/bert_base/test_results_paws_qqp_devtest.tsv\")"
   ]
  },
  {
   "cell_type": "code",
   "execution_count": 67,
   "id": "9439bc52-0289-4783-a132-f5fa4e5f066e",
   "metadata": {},
   "outputs": [
    {
     "data": {
      "text/plain": [
       "[1, 1, 1]"
      ]
     },
     "execution_count": 67,
     "metadata": {},
     "output_type": "execute_result"
    }
   ],
   "source": [
    "qqp_paws_preds[:3]"
   ]
  },
  {
   "cell_type": "code",
   "execution_count": 68,
   "id": "2ef38224-95e7-4b18-b862-460a2fe25ddd",
   "metadata": {},
   "outputs": [
    {
     "name": "stdout",
     "output_type": "stream",
     "text": [
      "(0.2998522895125554, 0.043209876543209874, 0.9528795811518325)\n"
     ]
    }
   ],
   "source": [
    "acc_qqp_paws_test = get_acc(qqp_paws_preds, qqp_paws_test)\n",
    "print(acc_qqp_paws_test)"
   ]
  },
  {
   "cell_type": "code",
   "execution_count": 62,
   "id": "6c0ed176-ae06-4f03-bfa7-c47720248741",
   "metadata": {},
   "outputs": [
    {
     "data": {
      "text/plain": [
       "1"
      ]
     },
     "execution_count": 62,
     "metadata": {},
     "output_type": "execute_result"
    }
   ],
   "source": [
    "np.argmax([0.3, 0.7])"
   ]
  },
  {
   "cell_type": "code",
   "execution_count": 70,
   "id": "2df27c6d-4afc-4ea3-b13c-7e36d30b1917",
   "metadata": {},
   "outputs": [
    {
     "data": {
      "text/plain": [
       "(0.474375, 0.15770609318996415, 0.8741515837104072)"
      ]
     },
     "execution_count": 70,
     "metadata": {},
     "output_type": "execute_result"
    }
   ],
   "source": [
    "paws_wiki_test = get_test_examples(\"/local/jyzhao/data/Examples/PAWS_WIKI-examples/test.tsv\", True)\n",
    "paws_wiki_preds = read_pred(\"/local/jyzhao/bert/qqp_models/bert_base/test_results_paws_wiki_test.tsv\")\n",
    "get_acc(paws_wiki_preds, paws_wiki_test)"
   ]
  },
  {
   "cell_type": "code",
   "execution_count": null,
   "id": "2420d6ac-97d6-44c6-b41d-b72a0af6af3e",
   "metadata": {},
   "outputs": [],
   "source": []
  }
 ],
 "metadata": {
  "kernelspec": {
   "display_name": "Python 3.7.6 64-bit ('base': conda)",
   "language": "python",
   "name": "python376jvsc74a57bd077a4c5d85eb8aa349a086636c24ee7df1f2a560aeb800cec9b7d3821f531db49"
  },
  "language_info": {
   "codemirror_mode": {
    "name": "ipython",
    "version": 3
   },
   "file_extension": ".py",
   "mimetype": "text/x-python",
   "name": "python",
   "nbconvert_exporter": "python",
   "pygments_lexer": "ipython3",
   "version": "3.9.7"
  }
 },
 "nbformat": 4,
 "nbformat_minor": 5
}
