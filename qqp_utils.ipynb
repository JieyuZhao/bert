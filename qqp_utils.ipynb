{
 "cells": [
  {
   "cell_type": "code",
   "execution_count": 1,
   "id": "6364ce5b-0ba0-49bb-9189-bfffd431ae40",
   "metadata": {},
   "outputs": [],
   "source": [
    "import os\n",
    "import numpy as np\n",
    "import pandas as pd"
   ]
  },
  {
   "cell_type": "markdown",
   "id": "e39ab70b-1947-49c1-a761-4d36869850ea",
   "metadata": {},
   "source": [
    "### Generate the bias logits"
   ]
  },
  {
   "cell_type": "code",
   "execution_count": 46,
   "id": "6545be9f-9af5-407c-8294-67ce4c259d03",
   "metadata": {},
   "outputs": [],
   "source": [
    "def read_biasfeatures(path):\n",
    "    biasfeatures = pd.read_csv(path, index_col=0)\n",
    "    return biasfeatures"
   ]
  },
  {
   "cell_type": "code",
   "execution_count": 48,
   "id": "e75aba5d-cd10-48e2-8183-132e061243a4",
   "metadata": {},
   "outputs": [],
   "source": [
    "qqp_train_biasfeatures = read_biasfeatures(\"/local/jyzhao/data/QQP/qqp_train_bias_features\")"
   ]
  },
  {
   "cell_type": "code",
   "execution_count": 138,
   "id": "32228fec-324f-44fd-a70e-9c97fbeaec4c",
   "metadata": {},
   "outputs": [
    {
     "data": {
      "text/plain": [
       "363846"
      ]
     },
     "execution_count": 138,
     "metadata": {},
     "output_type": "execute_result"
    }
   ],
   "source": [
    "len(qqp_train_biasfeatures)"
   ]
  },
  {
   "cell_type": "code",
   "execution_count": 55,
   "id": "930437b5-8c0d-4271-8d53-b25fd09c3f63",
   "metadata": {},
   "outputs": [
    {
     "data": {
      "text/html": [
       "<div>\n",
       "<style scoped>\n",
       "    .dataframe tbody tr th:only-of-type {\n",
       "        vertical-align: middle;\n",
       "    }\n",
       "\n",
       "    .dataframe tbody tr th {\n",
       "        vertical-align: top;\n",
       "    }\n",
       "\n",
       "    .dataframe thead th {\n",
       "        text-align: right;\n",
       "    }\n",
       "</style>\n",
       "<table border=\"1\" class=\"dataframe\">\n",
       "  <thead>\n",
       "    <tr style=\"text-align: right;\">\n",
       "      <th></th>\n",
       "      <th>h-is-subseq</th>\n",
       "      <th>all-in-p</th>\n",
       "      <th>percent-in-p</th>\n",
       "      <th>log-len-diff</th>\n",
       "      <th>neg-in-h</th>\n",
       "      <th>label</th>\n",
       "      <th>average-sim</th>\n",
       "      <th>min-similarity</th>\n",
       "      <th>min2-similarity</th>\n",
       "    </tr>\n",
       "  </thead>\n",
       "  <tbody>\n",
       "    <tr>\n",
       "      <th>0</th>\n",
       "      <td>0</td>\n",
       "      <td>0</td>\n",
       "      <td>0.363636</td>\n",
       "      <td>1.609438</td>\n",
       "      <td>0</td>\n",
       "      <td>0</td>\n",
       "      <td>0</td>\n",
       "      <td>0</td>\n",
       "      <td>0</td>\n",
       "    </tr>\n",
       "    <tr>\n",
       "      <th>1</th>\n",
       "      <td>0</td>\n",
       "      <td>0</td>\n",
       "      <td>0.571429</td>\n",
       "      <td>0.000000</td>\n",
       "      <td>0</td>\n",
       "      <td>1</td>\n",
       "      <td>0</td>\n",
       "      <td>0</td>\n",
       "      <td>0</td>\n",
       "    </tr>\n",
       "  </tbody>\n",
       "</table>\n",
       "</div>"
      ],
      "text/plain": [
       "   h-is-subseq  all-in-p  percent-in-p  log-len-diff  neg-in-h  label  \\\n",
       "0            0         0      0.363636      1.609438         0      0   \n",
       "1            0         0      0.571429      0.000000         0      1   \n",
       "\n",
       "   average-sim  min-similarity  min2-similarity  \n",
       "0            0               0                0  \n",
       "1            0               0                0  "
      ]
     },
     "execution_count": 55,
     "metadata": {},
     "output_type": "execute_result"
    }
   ],
   "source": [
    "qqp_train_biasfeatures[:2]"
   ]
  },
  {
   "cell_type": "code",
   "execution_count": 176,
   "id": "1080c481-5da4-41f8-b7f7-911b6d258f58",
   "metadata": {},
   "outputs": [
    {
     "data": {
      "text/plain": [
       "0.18134870247302431"
      ]
     },
     "execution_count": 176,
     "metadata": {},
     "output_type": "execute_result"
    }
   ],
   "source": [
    "len(qqp_train_biasfeatures[qqp_train_biasfeatures[\"percent-in-p\"] > 0.8]) / len(qqp_train_biasfeatures)"
   ]
  },
  {
   "cell_type": "code",
   "execution_count": 194,
   "id": "91b63e64-d910-48ff-84ad-6784f2f4c84a",
   "metadata": {},
   "outputs": [
    {
     "data": {
      "text/plain": [
       "13269"
      ]
     },
     "execution_count": 194,
     "metadata": {},
     "output_type": "execute_result"
    }
   ],
   "source": [
    "len(qqp_train_biasfeatures[qqp_train_biasfeatures[\"all-in-p\"] == 1])"
   ]
  },
  {
   "cell_type": "code",
   "execution_count": 186,
   "id": "92e4410a-8968-4f18-815e-389dccd5a6dd",
   "metadata": {},
   "outputs": [
    {
     "data": {
      "text/plain": [
       "0.6014017635089306"
      ]
     },
     "execution_count": 186,
     "metadata": {},
     "output_type": "execute_result"
    }
   ],
   "source": [
    "bd = 0.99\n",
    "len(qqp_train_biasfeatures[(qqp_train_biasfeatures[\"percent-in-p\"] >= bd) & (qqp_train_biasfeatures[\"label\"] ==1)]) / len(qqp_train_biasfeatures[qqp_train_biasfeatures[\"percent-in-p\"] >= bd])"
   ]
  },
  {
   "cell_type": "code",
   "execution_count": 153,
   "id": "8508957c-cc10-412f-b81e-5b4a3b6728a0",
   "metadata": {},
   "outputs": [
    {
     "name": "stdout",
     "output_type": "stream",
     "text": [
      "all-in-p\n"
     ]
    },
    {
     "data": {
      "text/plain": [
       "0.6014017635089306"
      ]
     },
     "execution_count": 153,
     "metadata": {},
     "output_type": "execute_result"
    }
   ],
   "source": [
    "bd = 0.7\n",
    "bf = \"all-in-p\"\n",
    "print(bf)\n",
    "len(qqp_train_biasfeatures[(qqp_train_biasfeatures[bf] > bd) & (qqp_train_biasfeatures[\"label\"] ==1)]) / len(qqp_train_biasfeatures[qqp_train_biasfeatures[bf] > bd])"
   ]
  },
  {
   "cell_type": "code",
   "execution_count": 191,
   "id": "6d3abed1-3ab3-4932-9c7d-0113daf4209a",
   "metadata": {},
   "outputs": [
    {
     "data": {
      "text/plain": [
       "0.3693265832247709"
      ]
     },
     "execution_count": 191,
     "metadata": {},
     "output_type": "execute_result"
    }
   ],
   "source": [
    "len(qqp_train_biasfeatures[qqp_train_biasfeatures[\"label\"] == 1]) / len(qqp_train_biasfeatures)"
   ]
  },
  {
   "cell_type": "code",
   "execution_count": 139,
   "id": "c6662417-2bb3-4dc4-a087-c8b9ec16c646",
   "metadata": {},
   "outputs": [
    {
     "data": {
      "text/plain": [
       "0.6380694029891767"
      ]
     },
     "execution_count": 139,
     "metadata": {},
     "output_type": "execute_result"
    }
   ],
   "source": [
    "bd=0.5\n",
    "len(qqp_train_biasfeatures[(qqp_train_biasfeatures[\"all-in-p\"] > bd) & (qqp_train_biasfeatures[\"label\"] ==1) | (qqp_train_biasfeatures[\"all-in-p\"] < bd) & (qqp_train_biasfeatures[\"label\"] == 0)]) / 363846"
   ]
  },
  {
   "cell_type": "code",
   "execution_count": 157,
   "id": "2d8e0b04-ebde-4750-bade-f5d720c9d2e4",
   "metadata": {},
   "outputs": [],
   "source": [
    "from tqdm import tqdm"
   ]
  },
  {
   "cell_type": "code",
   "execution_count": 189,
   "id": "0173e27a-c69a-488b-9d18-abf4544dc83b",
   "metadata": {},
   "outputs": [
    {
     "name": "stderr",
     "output_type": "stream",
     "text": [
      "100%|███████████████████████████████████████████████████████████████████████████████████████████████████████████████████████████████████████████████████████████████████████████████████████████████████████████████| 363846/363846 [00:27<00:00, 13305.61it/s]\n"
     ]
    }
   ],
   "source": [
    "bias_logits = []\n",
    "bf = \"all-in-p\"\n",
    "for idx in tqdm(range(len(qqp_train_biasfeatures))):\n",
    "    instance = qqp_train_biasfeatures.iloc[idx]\n",
    "    if instance[bf] ==1 and instance[\"label\"] == 1:\n",
    "        bl = 0.6\n",
    "        bias_logits.append([1-bl, bl])\n",
    "    else:\n",
    "        bias_logits.append([0, 0])\n",
    "with open(\"/local/jyzhao/data/QQP/bias_logits/allinp_0.6\", \"w\") as f:\n",
    "    for line in bias_logits:\n",
    "        f.write(\"\\t\".join([str(x) for x in line]) + \"\\n\")"
   ]
  },
  {
   "cell_type": "code",
   "execution_count": 172,
   "id": "4c6385ca-aab7-44b3-a5a3-596a1f9036fa",
   "metadata": {},
   "outputs": [
    {
     "name": "stderr",
     "output_type": "stream",
     "text": [
      "100%|███████████████████████████████████████████████████████████████████████████████████████████████████████████████████████████████████████████████████████████████████████████████████████████████████████████████| 363846/363846 [00:25<00:00, 14463.40it/s]\n"
     ]
    }
   ],
   "source": [
    "## based on label distribution\n",
    "bias_logits = []\n",
    "for idx in tqdm(range(len(qqp_train_biasfeatures))):\n",
    "    instance = qqp_train_biasfeatures.iloc[idx]\n",
    "    bias_logits.append([0.63, 0.37])\n",
    "    # if instance[\"percent-in-p\"] > 0.7 and instance[\"label\"] != 1:\n",
    "    #     bl = 0.37\n",
    "    #     bias_logits.append([1-bl, bl])\n",
    "    # else:\n",
    "    #     bias_logits.append([0, 0])\n",
    "with open(\"/local/jyzhao/data/QQP/bias_logits/all_0.37\", \"w\") as f:\n",
    "    for line in bias_logits:\n",
    "        f.write(\"\\t\".join([str(x) for x in line]) + \"\\n\")"
   ]
  },
  {
   "cell_type": "code",
   "execution_count": null,
   "id": "0969184a-468e-4b3d-b78f-9b7b6266dfd0",
   "metadata": {},
   "outputs": [],
   "source": []
  },
  {
   "cell_type": "code",
   "execution_count": 165,
   "id": "c92946b9-1479-408c-b6e6-aa3c19dff601",
   "metadata": {},
   "outputs": [],
   "source": [
    "paws_qqp_test_bf = read_biasfeatures(\"/local/jyzhao/data/QQP/paws_qqp_dev_test_bias_features.csv\")"
   ]
  },
  {
   "cell_type": "code",
   "execution_count": 183,
   "id": "b15ca5f3-37ef-4672-91ac-1c25d1aecef2",
   "metadata": {},
   "outputs": [
    {
     "data": {
      "text/html": [
       "<div>\n",
       "<style scoped>\n",
       "    .dataframe tbody tr th:only-of-type {\n",
       "        vertical-align: middle;\n",
       "    }\n",
       "\n",
       "    .dataframe tbody tr th {\n",
       "        vertical-align: top;\n",
       "    }\n",
       "\n",
       "    .dataframe thead th {\n",
       "        text-align: right;\n",
       "    }\n",
       "</style>\n",
       "<table border=\"1\" class=\"dataframe\">\n",
       "  <thead>\n",
       "    <tr style=\"text-align: right;\">\n",
       "      <th></th>\n",
       "      <th>h-is-subseq</th>\n",
       "      <th>all-in-p</th>\n",
       "      <th>percent-in-p</th>\n",
       "      <th>log-len-diff</th>\n",
       "      <th>neg-in-h</th>\n",
       "      <th>label</th>\n",
       "      <th>average-sim</th>\n",
       "      <th>min-similarity</th>\n",
       "      <th>min2-similarity</th>\n",
       "    </tr>\n",
       "  </thead>\n",
       "  <tbody>\n",
       "    <tr>\n",
       "      <th>0</th>\n",
       "      <td>0</td>\n",
       "      <td>1</td>\n",
       "      <td>1.0</td>\n",
       "      <td>0.0</td>\n",
       "      <td>0</td>\n",
       "      <td>0</td>\n",
       "      <td>0</td>\n",
       "      <td>0</td>\n",
       "      <td>0</td>\n",
       "    </tr>\n",
       "    <tr>\n",
       "      <th>2</th>\n",
       "      <td>0</td>\n",
       "      <td>1</td>\n",
       "      <td>1.0</td>\n",
       "      <td>0.0</td>\n",
       "      <td>1</td>\n",
       "      <td>0</td>\n",
       "      <td>0</td>\n",
       "      <td>0</td>\n",
       "      <td>0</td>\n",
       "    </tr>\n",
       "    <tr>\n",
       "      <th>4</th>\n",
       "      <td>0</td>\n",
       "      <td>1</td>\n",
       "      <td>1.0</td>\n",
       "      <td>0.0</td>\n",
       "      <td>0</td>\n",
       "      <td>0</td>\n",
       "      <td>0</td>\n",
       "      <td>0</td>\n",
       "      <td>0</td>\n",
       "    </tr>\n",
       "    <tr>\n",
       "      <th>5</th>\n",
       "      <td>0</td>\n",
       "      <td>1</td>\n",
       "      <td>1.0</td>\n",
       "      <td>0.0</td>\n",
       "      <td>1</td>\n",
       "      <td>0</td>\n",
       "      <td>0</td>\n",
       "      <td>0</td>\n",
       "      <td>0</td>\n",
       "    </tr>\n",
       "    <tr>\n",
       "      <th>6</th>\n",
       "      <td>0</td>\n",
       "      <td>1</td>\n",
       "      <td>1.0</td>\n",
       "      <td>0.0</td>\n",
       "      <td>0</td>\n",
       "      <td>0</td>\n",
       "      <td>0</td>\n",
       "      <td>0</td>\n",
       "      <td>0</td>\n",
       "    </tr>\n",
       "    <tr>\n",
       "      <th>...</th>\n",
       "      <td>...</td>\n",
       "      <td>...</td>\n",
       "      <td>...</td>\n",
       "      <td>...</td>\n",
       "      <td>...</td>\n",
       "      <td>...</td>\n",
       "      <td>...</td>\n",
       "      <td>...</td>\n",
       "      <td>...</td>\n",
       "    </tr>\n",
       "    <tr>\n",
       "      <th>670</th>\n",
       "      <td>0</td>\n",
       "      <td>1</td>\n",
       "      <td>1.0</td>\n",
       "      <td>0.0</td>\n",
       "      <td>1</td>\n",
       "      <td>0</td>\n",
       "      <td>0</td>\n",
       "      <td>0</td>\n",
       "      <td>0</td>\n",
       "    </tr>\n",
       "    <tr>\n",
       "      <th>671</th>\n",
       "      <td>0</td>\n",
       "      <td>1</td>\n",
       "      <td>1.0</td>\n",
       "      <td>0.0</td>\n",
       "      <td>0</td>\n",
       "      <td>1</td>\n",
       "      <td>0</td>\n",
       "      <td>0</td>\n",
       "      <td>0</td>\n",
       "    </tr>\n",
       "    <tr>\n",
       "      <th>672</th>\n",
       "      <td>0</td>\n",
       "      <td>1</td>\n",
       "      <td>1.0</td>\n",
       "      <td>0.0</td>\n",
       "      <td>0</td>\n",
       "      <td>0</td>\n",
       "      <td>0</td>\n",
       "      <td>0</td>\n",
       "      <td>0</td>\n",
       "    </tr>\n",
       "    <tr>\n",
       "      <th>674</th>\n",
       "      <td>0</td>\n",
       "      <td>1</td>\n",
       "      <td>1.0</td>\n",
       "      <td>0.0</td>\n",
       "      <td>0</td>\n",
       "      <td>0</td>\n",
       "      <td>0</td>\n",
       "      <td>0</td>\n",
       "      <td>0</td>\n",
       "    </tr>\n",
       "    <tr>\n",
       "      <th>675</th>\n",
       "      <td>0</td>\n",
       "      <td>1</td>\n",
       "      <td>1.0</td>\n",
       "      <td>0.0</td>\n",
       "      <td>0</td>\n",
       "      <td>1</td>\n",
       "      <td>0</td>\n",
       "      <td>0</td>\n",
       "      <td>0</td>\n",
       "    </tr>\n",
       "  </tbody>\n",
       "</table>\n",
       "<p>569 rows × 9 columns</p>\n",
       "</div>"
      ],
      "text/plain": [
       "     h-is-subseq  all-in-p  percent-in-p  log-len-diff  neg-in-h  label  \\\n",
       "0              0         1           1.0           0.0         0      0   \n",
       "2              0         1           1.0           0.0         1      0   \n",
       "4              0         1           1.0           0.0         0      0   \n",
       "5              0         1           1.0           0.0         1      0   \n",
       "6              0         1           1.0           0.0         0      0   \n",
       "..           ...       ...           ...           ...       ...    ...   \n",
       "670            0         1           1.0           0.0         1      0   \n",
       "671            0         1           1.0           0.0         0      1   \n",
       "672            0         1           1.0           0.0         0      0   \n",
       "674            0         1           1.0           0.0         0      0   \n",
       "675            0         1           1.0           0.0         0      1   \n",
       "\n",
       "     average-sim  min-similarity  min2-similarity  \n",
       "0              0               0                0  \n",
       "2              0               0                0  \n",
       "4              0               0                0  \n",
       "5              0               0                0  \n",
       "6              0               0                0  \n",
       "..           ...             ...              ...  \n",
       "670            0               0                0  \n",
       "671            0               0                0  \n",
       "672            0               0                0  \n",
       "674            0               0                0  \n",
       "675            0               0                0  \n",
       "\n",
       "[569 rows x 9 columns]"
      ]
     },
     "execution_count": 183,
     "metadata": {},
     "output_type": "execute_result"
    }
   ],
   "source": [
    "paws_qqp_test_bf[(paws_qqp_test_bf[\"percent-in-p\"] == 1.0)]"
   ]
  },
  {
   "cell_type": "code",
   "execution_count": 175,
   "id": "aa73ea62-2222-4a4d-bfdb-4fd6ce824ddf",
   "metadata": {},
   "outputs": [
    {
     "data": {
      "text/html": [
       "<div>\n",
       "<style scoped>\n",
       "    .dataframe tbody tr th:only-of-type {\n",
       "        vertical-align: middle;\n",
       "    }\n",
       "\n",
       "    .dataframe tbody tr th {\n",
       "        vertical-align: top;\n",
       "    }\n",
       "\n",
       "    .dataframe thead th {\n",
       "        text-align: right;\n",
       "    }\n",
       "</style>\n",
       "<table border=\"1\" class=\"dataframe\">\n",
       "  <thead>\n",
       "    <tr style=\"text-align: right;\">\n",
       "      <th></th>\n",
       "      <th>h-is-subseq</th>\n",
       "      <th>all-in-p</th>\n",
       "      <th>percent-in-p</th>\n",
       "      <th>log-len-diff</th>\n",
       "      <th>neg-in-h</th>\n",
       "      <th>label</th>\n",
       "      <th>average-sim</th>\n",
       "      <th>min-similarity</th>\n",
       "      <th>min2-similarity</th>\n",
       "    </tr>\n",
       "  </thead>\n",
       "  <tbody>\n",
       "    <tr>\n",
       "      <th>count</th>\n",
       "      <td>677.000000</td>\n",
       "      <td>677.000000</td>\n",
       "      <td>677.000000</td>\n",
       "      <td>677.000000</td>\n",
       "      <td>677.000000</td>\n",
       "      <td>677.000000</td>\n",
       "      <td>677.0</td>\n",
       "      <td>677.0</td>\n",
       "      <td>677.0</td>\n",
       "    </tr>\n",
       "    <tr>\n",
       "      <th>mean</th>\n",
       "      <td>0.013294</td>\n",
       "      <td>0.840473</td>\n",
       "      <td>0.986323</td>\n",
       "      <td>0.040558</td>\n",
       "      <td>0.128508</td>\n",
       "      <td>0.282127</td>\n",
       "      <td>0.0</td>\n",
       "      <td>0.0</td>\n",
       "      <td>0.0</td>\n",
       "    </tr>\n",
       "    <tr>\n",
       "      <th>std</th>\n",
       "      <td>0.114615</td>\n",
       "      <td>0.366438</td>\n",
       "      <td>0.042168</td>\n",
       "      <td>0.236759</td>\n",
       "      <td>0.334902</td>\n",
       "      <td>0.450368</td>\n",
       "      <td>0.0</td>\n",
       "      <td>0.0</td>\n",
       "      <td>0.0</td>\n",
       "    </tr>\n",
       "    <tr>\n",
       "      <th>min</th>\n",
       "      <td>0.000000</td>\n",
       "      <td>0.000000</td>\n",
       "      <td>0.571429</td>\n",
       "      <td>0.000000</td>\n",
       "      <td>0.000000</td>\n",
       "      <td>0.000000</td>\n",
       "      <td>0.0</td>\n",
       "      <td>0.0</td>\n",
       "      <td>0.0</td>\n",
       "    </tr>\n",
       "    <tr>\n",
       "      <th>25%</th>\n",
       "      <td>0.000000</td>\n",
       "      <td>1.000000</td>\n",
       "      <td>1.000000</td>\n",
       "      <td>0.000000</td>\n",
       "      <td>0.000000</td>\n",
       "      <td>0.000000</td>\n",
       "      <td>0.0</td>\n",
       "      <td>0.0</td>\n",
       "      <td>0.0</td>\n",
       "    </tr>\n",
       "    <tr>\n",
       "      <th>50%</th>\n",
       "      <td>0.000000</td>\n",
       "      <td>1.000000</td>\n",
       "      <td>1.000000</td>\n",
       "      <td>0.000000</td>\n",
       "      <td>0.000000</td>\n",
       "      <td>0.000000</td>\n",
       "      <td>0.0</td>\n",
       "      <td>0.0</td>\n",
       "      <td>0.0</td>\n",
       "    </tr>\n",
       "    <tr>\n",
       "      <th>75%</th>\n",
       "      <td>0.000000</td>\n",
       "      <td>1.000000</td>\n",
       "      <td>1.000000</td>\n",
       "      <td>0.000000</td>\n",
       "      <td>0.000000</td>\n",
       "      <td>1.000000</td>\n",
       "      <td>0.0</td>\n",
       "      <td>0.0</td>\n",
       "      <td>0.0</td>\n",
       "    </tr>\n",
       "    <tr>\n",
       "      <th>max</th>\n",
       "      <td>1.000000</td>\n",
       "      <td>1.000000</td>\n",
       "      <td>1.000000</td>\n",
       "      <td>2.890372</td>\n",
       "      <td>1.000000</td>\n",
       "      <td>1.000000</td>\n",
       "      <td>0.0</td>\n",
       "      <td>0.0</td>\n",
       "      <td>0.0</td>\n",
       "    </tr>\n",
       "  </tbody>\n",
       "</table>\n",
       "</div>"
      ],
      "text/plain": [
       "       h-is-subseq    all-in-p  percent-in-p  log-len-diff    neg-in-h  \\\n",
       "count   677.000000  677.000000    677.000000    677.000000  677.000000   \n",
       "mean      0.013294    0.840473      0.986323      0.040558    0.128508   \n",
       "std       0.114615    0.366438      0.042168      0.236759    0.334902   \n",
       "min       0.000000    0.000000      0.571429      0.000000    0.000000   \n",
       "25%       0.000000    1.000000      1.000000      0.000000    0.000000   \n",
       "50%       0.000000    1.000000      1.000000      0.000000    0.000000   \n",
       "75%       0.000000    1.000000      1.000000      0.000000    0.000000   \n",
       "max       1.000000    1.000000      1.000000      2.890372    1.000000   \n",
       "\n",
       "            label  average-sim  min-similarity  min2-similarity  \n",
       "count  677.000000        677.0           677.0            677.0  \n",
       "mean     0.282127          0.0             0.0              0.0  \n",
       "std      0.450368          0.0             0.0              0.0  \n",
       "min      0.000000          0.0             0.0              0.0  \n",
       "25%      0.000000          0.0             0.0              0.0  \n",
       "50%      0.000000          0.0             0.0              0.0  \n",
       "75%      1.000000          0.0             0.0              0.0  \n",
       "max      1.000000          0.0             0.0              0.0  "
      ]
     },
     "execution_count": 175,
     "metadata": {},
     "output_type": "execute_result"
    }
   ],
   "source": [
    "paws_qqp_test_bf.describe()"
   ]
  },
  {
   "cell_type": "code",
   "execution_count": 195,
   "id": "6b72dcd7-a383-449a-8a95-918946000187",
   "metadata": {},
   "outputs": [],
   "source": [
    "qqp_train=get_test_examples(\"/local/jyzhao/data/QQP/train.tsv\", True)"
   ]
  },
  {
   "cell_type": "code",
   "execution_count": 198,
   "id": "eb6cfff7-ac80-4bc9-a61f-c1c7a2a9877b",
   "metadata": {},
   "outputs": [
    {
     "name": "stderr",
     "output_type": "stream",
     "text": [
      "100%|███████████████████████████████████████████████████████████████████████████████████████████████████████████████████████████████████████████████████████████████████████████████████████████████████████████████| 363846/363846 [00:26<00:00, 13654.01it/s]\n"
     ]
    }
   ],
   "source": [
    "qqp_train_allinp = []\n",
    "for idx in tqdm(range(len(qqp_train_biasfeatures))):\n",
    "    instance = qqp_train_biasfeatures.iloc[idx]\n",
    "    if instance[\"all-in-p\"] == 1:\n",
    "        qqp_train_allinp.append(qqp_train[idx])"
   ]
  },
  {
   "cell_type": "code",
   "execution_count": 204,
   "id": "1cd4cdc0-71cb-4b83-ac9a-dd15c24c9928",
   "metadata": {},
   "outputs": [],
   "source": [
    "with open(\"/local/jyzhao/data/QQP/train_only_allinp.tsv\", \"w\") as f:\n",
    "    f.write(\"ID\\tQ1ID\\tQ2ID\\tlabel\\n\")\n",
    "    for line in qqp_train_allinp:\n",
    "        f.write(\"\\t\".join(line) + \"\\n\")"
   ]
  },
  {
   "cell_type": "markdown",
   "id": "5138e598-1dcf-4cdd-aa4f-d59ac3896e5d",
   "metadata": {},
   "source": [
    "## Check the prediction acc"
   ]
  },
  {
   "cell_type": "code",
   "execution_count": 26,
   "id": "f0b32fc4-b386-4ff4-bd7d-fea46830e3b5",
   "metadata": {},
   "outputs": [],
   "source": [
    "def read_pred(filepath):\n",
    "    preds = []\n",
    "    with open(filepath, \"r\") as f:\n",
    "        lines = csv.reader(f, delimiter=\"\\t\", quotechar=None)\n",
    "        for line in lines:\n",
    "            pred_idx = np.argmax(np.array(line, dtype=float))\n",
    "            preds.append(pred_idx)\n",
    "    return preds\n",
    "            "
   ]
  },
  {
   "cell_type": "code",
   "execution_count": 16,
   "id": "0565899b-fd52-4e9f-a3c7-3b0c0a003986",
   "metadata": {},
   "outputs": [],
   "source": [
    "import csv"
   ]
  },
  {
   "cell_type": "code",
   "execution_count": 17,
   "id": "f0459bb7-6202-4bd6-b306-19c81852e9fd",
   "metadata": {},
   "outputs": [],
   "source": [
    "PAWS_QQP_PATH = \"/local/jyzhao/data/paws/paws_qqp/output\""
   ]
  },
  {
   "cell_type": "code",
   "execution_count": 21,
   "id": "baa48ed2-208a-4d53-a22e-d82651502736",
   "metadata": {},
   "outputs": [],
   "source": [
    "def get_test_examples(input_file, skipheader = False):\n",
    "    with open(input_file, \"r\") as f:\n",
    "        reader = csv.reader(f, delimiter=\"\\t\", quotechar=None)\n",
    "        lines = []\n",
    "        if skipheader:\n",
    "            next(reader)\n",
    "        for line in reader:\n",
    "            lines.append(line)\n",
    "    return lines"
   ]
  },
  {
   "cell_type": "code",
   "execution_count": 74,
   "id": "cc2f5fa5-7dcb-42a6-80cc-60e57254af84",
   "metadata": {},
   "outputs": [],
   "source": [
    "def get_acc(preds, test):\n",
    "    assert len(preds) == len(test)\n",
    "    preds = np.array(preds, dtype=float)\n",
    "    test = np.array([x[-1] for x in test], dtype=float)\n",
    "    correct = np.sum(preds == test)\n",
    "    label_0 = np.where(test == 0)[0]\n",
    "    label_1 = np.where(test ==1)[0]\n",
    "    correct_0 = np.sum(preds[label_0] == test[label_0])\n",
    "    correct_1 = np.sum(preds[label_1] == test[label_1])\n",
    "    return [round(correct/len(preds)*100, 5), round(100 * correct_0/len(label_0), 5), round(100 * correct_1/len(label_1), 5)]"
   ]
  },
  {
   "cell_type": "code",
   "execution_count": 64,
   "id": "f4ffdc66-5c7f-4042-a798-abb22fe02c59",
   "metadata": {},
   "outputs": [],
   "source": [
    "qqp_paws_test = get_test_examples(os.path.join(PAWS_QQP_PATH, \"dev_and_test.tsv\"), True)"
   ]
  },
  {
   "cell_type": "code",
   "execution_count": 65,
   "id": "2fd93ba7-938c-4bcb-a897-063f1a7a50bf",
   "metadata": {},
   "outputs": [
    {
     "data": {
      "text/plain": [
       "[['1',\n",
       "  \"b'What were the major effects of the cambodia earthquake , and how do these effects compare to the Iquique earthquake in 1877 ?'\",\n",
       "  \"b'What were the major effects of the Iquique earthquake , and how do these effects compare to the cambodia earthquake in 1877 ?'\",\n",
       "  '0'],\n",
       " ['2',\n",
       "  'b\"The guy I \\'m dating never texts me and I feel like he does n\\'t care about me but when I see him he shows me he likes me and wants me . Why do I feel this way ?\"',\n",
       "  'b\"The guy I \\'m dating never wants me and I feel like he does n\\'t care about me but when I see him , he shows me he likes me and texts me . Why do I feel this way ?\"',\n",
       "  '0']]"
      ]
     },
     "execution_count": 65,
     "metadata": {},
     "output_type": "execute_result"
    }
   ],
   "source": [
    "qqp_paws_test[:2]"
   ]
  },
  {
   "cell_type": "code",
   "execution_count": 66,
   "id": "6ee29bb1-6030-4b30-92bb-30ebb570c9ab",
   "metadata": {},
   "outputs": [],
   "source": [
    "qqp_paws_preds = read_pred(\"/local/jyzhao/bert/qqp_models/bert_base/test_results_paws_qqp_devtest.tsv\")"
   ]
  },
  {
   "cell_type": "code",
   "execution_count": 67,
   "id": "9439bc52-0289-4783-a132-f5fa4e5f066e",
   "metadata": {},
   "outputs": [
    {
     "data": {
      "text/plain": [
       "[1, 1, 1]"
      ]
     },
     "execution_count": 67,
     "metadata": {},
     "output_type": "execute_result"
    }
   ],
   "source": [
    "qqp_paws_preds[:3]"
   ]
  },
  {
   "cell_type": "code",
   "execution_count": 82,
   "id": "2ef38224-95e7-4b18-b862-460a2fe25ddd",
   "metadata": {},
   "outputs": [
    {
     "name": "stdout",
     "output_type": "stream",
     "text": [
      "[29.09897, 3.29218, 94.7644]\n"
     ]
    }
   ],
   "source": [
    "acc_qqp_paws_test = get_acc(qqp_paws_preds, qqp_paws_test)\n",
    "print(acc_qqp_paws_test)"
   ]
  },
  {
   "cell_type": "code",
   "execution_count": 62,
   "id": "6c0ed176-ae06-4f03-bfa7-c47720248741",
   "metadata": {},
   "outputs": [
    {
     "data": {
      "text/plain": [
       "1"
      ]
     },
     "execution_count": 62,
     "metadata": {},
     "output_type": "execute_result"
    }
   ],
   "source": [
    "np.argmax([0.3, 0.7])"
   ]
  },
  {
   "cell_type": "code",
   "execution_count": 81,
   "id": "2df27c6d-4afc-4ea3-b13c-7e36d30b1917",
   "metadata": {},
   "outputs": [
    {
     "data": {
      "text/plain": [
       "[47.4375, 15.77061, 87.41516]"
      ]
     },
     "execution_count": 81,
     "metadata": {},
     "output_type": "execute_result"
    }
   ],
   "source": [
    "paws_wiki_test = get_test_examples(\"/local/jyzhao/data/Examples/PAWS_WIKI-examples/test.tsv\", True)\n",
    "paws_wiki_preds = read_pred(\"/local/jyzhao/bert/qqp_models/bert_base/test_results_paws_wiki_test.tsv\")\n",
    "get_acc(paws_wiki_preds, paws_wiki_test)"
   ]
  },
  {
   "cell_type": "markdown",
   "id": "040a14ae-0fe8-498a-8af9-f1154f474a78",
   "metadata": {},
   "source": [
    "- pip_0.7"
   ]
  },
  {
   "cell_type": "code",
   "execution_count": 79,
   "id": "2420d6ac-97d6-44c6-b41d-b72a0af6af3e",
   "metadata": {},
   "outputs": [],
   "source": [
    "def get_eval_res(model_name):\n",
    "    qqp_paws_preds = read_pred(f\"/local/jyzhao/bert/qqp_models/{model_name}/test_results_paws_qqp_devtest.tsv\")\n",
    "    acc_qqp_paws_test = get_acc(qqp_paws_preds, qqp_paws_test)\n",
    "    paws_wiki_preds = read_pred(f\"/local/jyzhao/bert/qqp_models/{model_name}/test_results_paws_wiki_test.tsv\")\n",
    "    acc_paws_wiki = get_acc(paws_wiki_preds, paws_wiki_test)\n",
    "    print(\"========\")\n",
    "    print(f\"eval on {model_name}\")\n",
    "    print(\"acc on qqp_paws:\", acc_qqp_paws_test)\n",
    "    print(\"acc on qqp_wiki:\", acc_paws_wiki)"
   ]
  },
  {
   "cell_type": "code",
   "execution_count": 100,
   "id": "5bf4436d-d42a-4bce-ab68-a81f731352b5",
   "metadata": {},
   "outputs": [
    {
     "name": "stdout",
     "output_type": "stream",
     "text": [
      "========\n",
      "eval on pip_0.7\n",
      "acc on qqp_paws: [29.09897, 3.29218, 94.7644]\n",
      "acc on qqp_wiki: [47.0, 21.30376, 79.44005]\n",
      "========\n",
      "eval on pip_0.7_bias\n",
      "acc on qqp_paws: [31.75775, 6.17284, 96.85864]\n",
      "acc on qqp_wiki: [46.5125, 16.15143, 84.84163]\n",
      "========\n",
      "eval on pip_0.7_challenge\n",
      "acc on qqp_paws: [28.80355, 2.05761, 96.85864]\n",
      "acc on qqp_wiki: [47.3, 17.89875, 84.41742]\n"
     ]
    }
   ],
   "source": [
    "get_eval_res(\"pip_0.7\")\n",
    "get_eval_res(\"pip_0.7_bias\")\n",
    "get_eval_res(\"pip_0.7_challenge\")"
   ]
  },
  {
   "cell_type": "code",
   "execution_count": 117,
   "id": "8c44592a-979e-4573-9424-6837d83d6e43",
   "metadata": {},
   "outputs": [
    {
     "name": "stdout",
     "output_type": "stream",
     "text": [
      "========\n",
      "eval on pip_0.8\n",
      "acc on qqp_paws: [28.2127, 1.85185, 95.28796]\n",
      "acc on qqp_wiki: [45.8375, 10.43907, 90.52602]\n",
      "========\n",
      "eval on pip_0.8_bias\n",
      "acc on qqp_paws: [29.39439, 3.08642, 96.33508]\n",
      "acc on qqp_wiki: [46.35, 12.99283, 88.46154]\n",
      "========\n",
      "eval on pip_0.8_challenge\n",
      "acc on qqp_paws: [30.42836, 5.14403, 94.7644]\n",
      "acc on qqp_wiki: [46.4625, 13.44086, 88.15045]\n"
     ]
    }
   ],
   "source": [
    "basename = \"pip_0.8\"\n",
    "get_eval_res(f\"{basename}\")\n",
    "get_eval_res(f\"{basename}_bias\")\n",
    "get_eval_res(f\"{basename}_challenge\")"
   ]
  },
  {
   "cell_type": "code",
   "execution_count": 118,
   "id": "da4c2d3c-f024-4dc5-b56b-1d7cd9d3dbd4",
   "metadata": {},
   "outputs": [
    {
     "name": "stdout",
     "output_type": "stream",
     "text": [
      "========\n",
      "eval on pip_0.6\n",
      "acc on qqp_paws: [29.98523, 4.73251, 94.24084]\n",
      "acc on qqp_wiki: [46.275, 13.21685, 88.00905]\n",
      "========\n",
      "eval on pip_0.6_bias\n",
      "acc on qqp_paws: [30.57607, 5.34979, 94.7644]\n",
      "acc on qqp_wiki: [46.675, 12.58961, 89.70588]\n",
      "========\n",
      "eval on pip_0.6_challenge\n",
      "acc on qqp_paws: [30.42836, 4.52675, 96.33508]\n",
      "acc on qqp_wiki: [45.6, 10.08065, 90.44118]\n"
     ]
    }
   ],
   "source": [
    "basename = \"pip_0.6\"\n",
    "get_eval_res(f\"{basename}\")\n",
    "get_eval_res(f\"{basename}_bias\")\n",
    "get_eval_res(f\"{basename}_challenge\")"
   ]
  },
  {
   "cell_type": "code",
   "execution_count": 164,
   "id": "09d1f3a8-c52f-4afd-a498-40a998d59f74",
   "metadata": {},
   "outputs": [
    {
     "name": "stdout",
     "output_type": "stream",
     "text": [
      "========\n",
      "eval on pip_0.7_0.8\n",
      "acc on qqp_paws: [30.72378, 5.14403, 95.81152]\n",
      "acc on qqp_wiki: [46.45, 13.50806, 88.03733]\n",
      "========\n",
      "eval on pip_0.7_bias_0.8\n",
      "acc on qqp_paws: [28.95126, 2.6749, 95.81152]\n",
      "acc on qqp_wiki: [46.3625, 11.02151, 90.97851]\n",
      "========\n",
      "eval on pip_0.7_challenge_0.8\n",
      "acc on qqp_paws: [30.72378, 4.93827, 96.33508]\n",
      "acc on qqp_wiki: [47.175, 15.00896, 87.78281]\n"
     ]
    }
   ],
   "source": [
    "basename = \"pip_0.7\"\n",
    "get_eval_res(f\"{basename}_0.8\")\n",
    "get_eval_res(f\"{basename}_bias_0.8\")\n",
    "get_eval_res(f\"{basename}_challenge_0.8\")"
   ]
  },
  {
   "cell_type": "code",
   "execution_count": 173,
   "id": "ee53436c-633f-499d-ae4e-836c5ca3ab88",
   "metadata": {},
   "outputs": [
    {
     "name": "stdout",
     "output_type": "stream",
     "text": [
      "========\n",
      "eval on pip_0.7_0.9\n",
      "acc on qqp_paws: [29.83752, 3.08642, 97.90576]\n",
      "acc on qqp_wiki: [46.5, 14.69534, 86.65158]\n",
      "========\n",
      "eval on pip_0.7_bias_0.9\n",
      "acc on qqp_paws: [30.87149, 5.76132, 94.7644]\n",
      "acc on qqp_wiki: [46.1125, 12.41039, 88.6595]\n",
      "========\n",
      "eval on pip_0.7_challenge_0.9\n",
      "acc on qqp_paws: [31.0192, 5.14403, 96.85864]\n",
      "acc on qqp_wiki: [46.1375, 11.17832, 90.27149]\n"
     ]
    }
   ],
   "source": [
    "basename = \"pip_0.7\"\n",
    "get_eval_res(f\"{basename}_0.9\")\n",
    "get_eval_res(f\"{basename}_bias_0.9\")\n",
    "get_eval_res(f\"{basename}_challenge_0.9\")"
   ]
  },
  {
   "cell_type": "code",
   "execution_count": 174,
   "id": "e0beedc9-f53d-4837-bad6-a121c616c0aa",
   "metadata": {},
   "outputs": [
    {
     "name": "stdout",
     "output_type": "stream",
     "text": [
      "========\n",
      "eval on all_0.37\n",
      "acc on qqp_paws: [29.83752, 3.7037, 96.33508]\n",
      "acc on qqp_wiki: [45.65, 9.74462, 90.97851]\n"
     ]
    }
   ],
   "source": [
    "basename = \"all_0.37\"\n",
    "get_eval_res(f\"{basename}\")"
   ]
  },
  {
   "cell_type": "code",
   "execution_count": 188,
   "id": "368bae15-2f37-4d96-819b-65e9795bef8b",
   "metadata": {},
   "outputs": [
    {
     "name": "stdout",
     "output_type": "stream",
     "text": [
      "========\n",
      "eval on allinp_0.9\n",
      "acc on qqp_paws: [30.28065, 4.73251, 95.28796]\n",
      "acc on qqp_wiki: [47.5125, 19.84767, 82.43778]\n"
     ]
    }
   ],
   "source": [
    "basename=\"allinp_0.9\"\n",
    "get_eval_res(f\"{basename}\")"
   ]
  },
  {
   "cell_type": "code",
   "execution_count": null,
   "id": "290ec2c7-fb99-477d-b734-cff2ded58773",
   "metadata": {},
   "outputs": [],
   "source": []
  }
 ],
 "metadata": {
  "kernelspec": {
   "display_name": "Python 3.7.6 64-bit ('base': conda)",
   "language": "python",
   "name": "python376jvsc74a57bd077a4c5d85eb8aa349a086636c24ee7df1f2a560aeb800cec9b7d3821f531db49"
  },
  "language_info": {
   "codemirror_mode": {
    "name": "ipython",
    "version": 3
   },
   "file_extension": ".py",
   "mimetype": "text/x-python",
   "name": "python",
   "nbconvert_exporter": "python",
   "pygments_lexer": "ipython3",
   "version": "3.9.7"
  }
 },
 "nbformat": 4,
 "nbformat_minor": 5
}
