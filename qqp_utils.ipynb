{
 "cells": [
  {
   "cell_type": "code",
   "execution_count": 1,
   "id": "6364ce5b-0ba0-49bb-9189-bfffd431ae40",
   "metadata": {},
   "outputs": [],
   "source": [
    "import os\n",
    "import numpy as np\n",
    "import pandas as pd"
   ]
  },
  {
   "cell_type": "code",
   "execution_count": 2,
   "id": "f0b32fc4-b386-4ff4-bd7d-fea46830e3b5",
   "metadata": {},
   "outputs": [],
   "source": [
    "def read_pred(filepath):\n",
    "    preds = []\n",
    "    with open(filepath, \"r\") as f:\n",
    "        lines = f.readlines()\n",
    "        for line in lines:\n",
    "            pred = line.strip().split(\"\\t\").astype(\"float\")\n",
    "            pred_idx = np.argmax(pred)\n",
    "            preds.append(pred_idx)\n",
    "    return preds\n",
    "            "
   ]
  },
  {
   "cell_type": "code",
   "execution_count": null,
   "id": "0565899b-fd52-4e9f-a3c7-3b0c0a003986",
   "metadata": {},
   "outputs": [],
   "source": [
    "import tsv"
   ]
  },
  {
   "cell_type": "code",
   "execution_count": null,
   "id": "f0459bb7-6202-4bd6-b306-19c81852e9fd",
   "metadata": {},
   "outputs": [],
   "source": []
  },
  {
   "cell_type": "code",
   "execution_count": 4,
   "id": "baa48ed2-208a-4d53-a22e-d82651502736",
   "metadata": {},
   "outputs": [],
   "source": [
    "def get_test_examples(data_dir):\n",
    "    with open(input_file, \"r\") as f:\n",
    "        reader = csv.reader(f, delimiter=\"\\t\", quotechar=None)\n",
    "        lines = []\n",
    "        for line in reader[1:]:\n",
    "            lines.append(line)\n",
    "    return lines"
   ]
  },
  {
   "cell_type": "code",
   "execution_count": null,
   "id": "cc2f5fa5-7dcb-42a6-80cc-60e57254af84",
   "metadata": {},
   "outputs": [],
   "source": [
    "def get_acc(preds, test):\n",
    "    assert len(preds) == len(test)\n",
    "    correct = 0\n",
    "    for idx in range(len(preds)):\n",
    "        if float(preds[idx]) == float(test[idx]):\n",
    "            correct += 1\n",
    "    return correct/len(preds)"
   ]
  }
 ],
 "metadata": {
  "kernelspec": {
   "display_name": "Python 3.7.6 64-bit ('base': conda)",
   "language": "python",
   "name": "python376jvsc74a57bd077a4c5d85eb8aa349a086636c24ee7df1f2a560aeb800cec9b7d3821f531db49"
  },
  "language_info": {
   "codemirror_mode": {
    "name": "ipython",
    "version": 3
   },
   "file_extension": ".py",
   "mimetype": "text/x-python",
   "name": "python",
   "nbconvert_exporter": "python",
   "pygments_lexer": "ipython3",
   "version": "3.9.7"
  }
 },
 "nbformat": 4,
 "nbformat_minor": 5
}
